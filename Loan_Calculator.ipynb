{
 "cells": [
  {
   "cell_type": "code",
   "execution_count": 1,
   "metadata": {},
   "outputs": [],
   "source": [
    "import warnings\n",
    "warnings.filterwarnings('ignore')\n",
    "import ipywidgets as widgets\n",
    "import sys\n",
    "from IPython.display import display, clear_output\n",
    "import sys"
   ]
  },
  {
   "cell_type": "code",
   "execution_count": 2,
   "metadata": {},
   "outputs": [],
   "source": [
    "# !jupyter nbextension enable – py widgetsnbextension – sys-prefix\n",
    "# !jupyter serverextension enable voila – sys-prefix"
   ]
  },
  {
   "cell_type": "code",
   "execution_count": 3,
   "metadata": {},
   "outputs": [],
   "source": [
    "# Image Widget\n",
    "\n",
    "file = open(\"car.jpg\", \"rb\")\n",
    "image = file.read()\n",
    "\n",
    "image_headline = widgets.Image(\n",
    "                    value = image,\n",
    "                    format = \"jpg\",\n",
    "                    width = \"500\"\n",
    "                )\n",
    "\n",
    "label_headline = widgets.Label(\n",
    "                    value = \"Photo by JAPIO7\",\n",
    "                    style = {\"description_width\": \"initial\"}\n",
    "                )\n",
    "\n",
    "vbox_headline = widgets.VBox([image_headline, label_headline])\n"
   ]
  },
  {
   "cell_type": "code",
   "execution_count": 4,
   "metadata": {},
   "outputs": [],
   "source": [
    "# Vehicle Cost\n",
    "\n",
    "vehicleCost = widgets.Text(placeholder = \"Vehicle Cost\")\n"
   ]
  },
  {
   "cell_type": "code",
   "execution_count": 5,
   "metadata": {},
   "outputs": [],
   "source": [
    "# Down Payment\n",
    "\n",
    "downPayment = widgets.Text(placeholder = \"Down Payment\")\n"
   ]
  },
  {
   "cell_type": "code",
   "execution_count": 6,
   "metadata": {},
   "outputs": [],
   "source": [
    "# Duration of Loan\n",
    "\n",
    "numberOfMonths = widgets.Text(placeholder = \"Number of Months\")\n"
   ]
  },
  {
   "cell_type": "code",
   "execution_count": 7,
   "metadata": {},
   "outputs": [],
   "source": [
    "# APR\n",
    "\n",
    "apr = widgets.Text(placeholder = \"APR %\")\n"
   ]
  },
  {
   "cell_type": "code",
   "execution_count": 8,
   "metadata": {},
   "outputs": [],
   "source": [
    "# Tax Rate\n",
    "\n",
    "taxRate = widgets.Text(placeholder = \"Tax Rate %\")\n"
   ]
  },
  {
   "cell_type": "code",
   "execution_count": 9,
   "metadata": {},
   "outputs": [],
   "source": [
    "# Warranty and other fees\n",
    "\n",
    "otherFees = widgets.Text(placeholder = \"Warranty & Other Fees\")\n"
   ]
  },
  {
   "cell_type": "code",
   "execution_count": 10,
   "metadata": {},
   "outputs": [],
   "source": [
    "# Redefine Values\n",
    "\n",
    "def reDifineValues():\n",
    "    vehicleCost = widgets.Text(placeholder = \"Vehicle Cost\")\n",
    "    downPayment = widgets.Text(placeholder = \"Down Payment\")\n",
    "    numberOfMonths = widgets.Text(placeholder = \"Number of Months\")\n",
    "    apr = widgets.Text(placeholder = \"APR %\")\n",
    "    taxRate = widgets.Text(placeholder = \"Tax Rate %\")\n",
    "    otherFees = widgets.Text(placeholder = \"Warranty & Other Fees\")\n",
    "    "
   ]
  },
  {
   "cell_type": "code",
   "execution_count": 11,
   "metadata": {},
   "outputs": [],
   "source": [
    "# Get Amounts\n",
    "\n",
    "def getAmounts(vCost, dPayment, nMonths, apr_, tRate, oFees):\n",
    "    while vCost == \"\" or dPayment == \"\" or nMonths == \"\" or tRate == \"\" or oFees == \"\":\n",
    "        print(\"All fields must have a valid input\")\n",
    "        print(\"Please re-run program!\")\n",
    "        newValues = reDifineValues()\n",
    "        getAmounts(newValues[0], newValues[1], newValues[2], newValues[3], newValues[4], newValues[5])\n",
    "        \n",
    "    cost = float(vCost)\n",
    "    down_payment = float(dPayment)\n",
    "    num_months = int(nMonths)\n",
    "    _apr_ = float(apr_)\n",
    "    tax_rate = float(tRate)\n",
    "    other_fees = float(oFees)\n",
    "    \n",
    "    return (cost, down_payment, num_months, _apr_, tax_rate, other_fees)\n"
   ]
  },
  {
   "cell_type": "code",
   "execution_count": 12,
   "metadata": {},
   "outputs": [],
   "source": [
    "# Calculate\n",
    "\n",
    "def calculate(amounts):\n",
    "    MONTHS_YEAR = 12\n",
    "    totalCost = float(amounts[0]) + float(amounts[5])\n",
    "    apr_dec = float(amounts[3]) / 100\n",
    "    monthlyRate = apr_dec / MONTHS_YEAR\n",
    "    totalTax = ((float(amounts[4]) / 100) * totalCost)\n",
    "    loan = totalCost + totalTax - float(amounts[1])\n",
    "    monthlyPayment = loan * (monthlyRate / (1 - pow(1 + monthlyRate, (- int(amounts[2])))))\n",
    "    totalInterest = (monthlyPayment * int(amounts[2]) - loan)\n",
    "    totalAmount = totalCost + totalTax + totalInterest\n",
    "    \n",
    "    return (\"%.2f\" % monthlyPayment, \"%.2f\" % loan, \"%.2f\" % totalInterest, \"%.2f\" % totalTax, \"%.2f\" % totalAmount)\n"
   ]
  },
  {
   "cell_type": "code",
   "execution_count": 13,
   "metadata": {},
   "outputs": [],
   "source": [
    "# Button Send\n",
    "\n",
    "button_send = widgets.Button(\n",
    "                description = \"Calculate\",\n",
    "                tooltip = \"Send\",\n",
    "                style = {'description_width': 'initial'}\n",
    "            )\n",
    "\n",
    "output = widgets.Output()\n",
    "\n",
    "def on_button_clicked(event):\n",
    "    amounts = calculate(getAmounts(vehicleCost.value, downPayment.value, numberOfMonths.value, apr.value, taxRate.value, otherFees.value))\n",
    "    with output:\n",
    "        clear_output()\n",
    "        print(f\"COST:\\t\\t\\t{vehicleCost.value}\")\n",
    "        print(f\"DOWN PAYMENT:\\t\\t{downPayment.value}\")\n",
    "        print(f\"MONTHS:\\t\\t\\t{numberOfMonths.value}\")\n",
    "        print(f\"APR%:\\t\\t\\t{apr.value}\")\n",
    "        print(f\"TAX RATE%:\\t\\t{taxRate.value}\")\n",
    "        print(f\"OTHER FEES:\\t\\t{otherFees.value}\")\n",
    "        print()\n",
    "        print(f\"MONTHLY PAYMENT:\\t{amounts[0]}\")\n",
    "        print(f\"TOTAL FINANCED:\\t\\t{amounts[1]}\")\n",
    "        print(f\"TOTAL INTEREST:\\t\\t{amounts[2]}\")\n",
    "        print(f\"TOTAL TAX:\\t\\t{amounts[3]}\")\n",
    "        print(f\"TOTAL AMOUNT:\\t\\t{amounts[4]}\")\n",
    "\n",
    "button_send.on_click(on_button_clicked)\n",
    "\n",
    "vbox_result = widgets.VBox([button_send, output])\n"
   ]
  },
  {
   "cell_type": "code",
   "execution_count": 14,
   "metadata": {},
   "outputs": [],
   "source": [
    "# stacked right hand side\n",
    "\n",
    "text_0 = widgets.HTML(value = \"VEHICLE COST:\")\n",
    "text_1 = widgets.HTML(value = \"DOWN PAYMENT:\")\n",
    "text_2 = widgets.HTML(value = \"NUMBER OF MONTHS:\")\n",
    "text_3 = widgets.HTML(value = \"APR %\")\n",
    "text_4 = widgets.HTML(value = \"TAX %\")\n",
    "text_5 = widgets.HTML(value = \"OTHER FEES:\")\n",
    "\n",
    "vbox_text = widgets.VBox([text_0, vehicleCost, text_1, downPayment, text_2, numberOfMonths, text_3, apr, text_4, taxRate, otherFees, vbox_result])\n",
    "                     "
   ]
  },
  {
   "cell_type": "code",
   "execution_count": 15,
   "metadata": {},
   "outputs": [
    {
     "data": {
      "application/vnd.jupyter.widget-view+json": {
       "model_id": "f108bf08f37043878f4348901c510f10",
       "version_major": 2,
       "version_minor": 0
      },
      "text/plain": [
       "HBox(children=(VBox(children=(Image(value=b'\\xff\\xd8\\xff\\xe0\\x00\\x14JFIF\\x00\\x01\\x01\\x01\\x01,\\x01,\\x00\\x00AMPF…"
      ]
     },
     "metadata": {},
     "output_type": "display_data"
    }
   ],
   "source": [
    "page = widgets.HBox([vbox_headline, vbox_text])\n",
    "display(page)"
   ]
  },
  {
   "cell_type": "code",
   "execution_count": null,
   "metadata": {},
   "outputs": [],
   "source": []
  }
 ],
 "metadata": {
  "kernelspec": {
   "display_name": "Python 3 (ipykernel)",
   "language": "python",
   "name": "python3"
  },
  "language_info": {
   "codemirror_mode": {
    "name": "ipython",
    "version": 3
   },
   "file_extension": ".py",
   "mimetype": "text/x-python",
   "name": "python",
   "nbconvert_exporter": "python",
   "pygments_lexer": "ipython3",
   "version": "3.9.15"
  }
 },
 "nbformat": 4,
 "nbformat_minor": 4
}
